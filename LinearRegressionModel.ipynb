{
  "nbformat": 4,
  "nbformat_minor": 0,
  "metadata": {
    "colab": {
      "provenance": []
    },
    "kernelspec": {
      "name": "python3",
      "display_name": "Python 3"
    },
    "language_info": {
      "name": "python"
    }
  },
  "cells": [
    {
      "cell_type": "markdown",
      "source": [
        "### A Linear Regression Model\n",
        " * The idea is to make a model to predict the parameters and find a satisfactory solution"
      ],
      "metadata": {
        "id": "uFFLfAA5Xys1"
      }
    },
    {
      "cell_type": "code",
      "source": [
        "import torch\n",
        "from torch import nn\n",
        "import matplotlib.pyplot as plt\n"
      ],
      "metadata": {
        "id": "xMbR6iLEXy5f"
      },
      "execution_count": 129,
      "outputs": []
    },
    {
      "cell_type": "code",
      "source": [
        "weight= 0.8\n",
        "bias=0.6\n",
        "\n",
        "#Create\n",
        "start=0\n",
        "end=10\n",
        "step=0.2\n",
        "X=torch.arange(start,end,step).unsqueeze(dim=1)\n",
        "y=weight*X+bias  #formula of linear regression\n",
        "\n",
        "X[:10],y[:10]"
      ],
      "metadata": {
        "colab": {
          "base_uri": "https://localhost:8080/"
        },
        "id": "AXBeRWfyYYgI",
        "outputId": "6b5ea22e-0c7d-45fd-d51f-5cdbfed4a0f4"
      },
      "execution_count": 130,
      "outputs": [
        {
          "output_type": "execute_result",
          "data": {
            "text/plain": [
              "(tensor([[0.0000],\n",
              "         [0.2000],\n",
              "         [0.4000],\n",
              "         [0.6000],\n",
              "         [0.8000],\n",
              "         [1.0000],\n",
              "         [1.2000],\n",
              "         [1.4000],\n",
              "         [1.6000],\n",
              "         [1.8000]]),\n",
              " tensor([[0.6000],\n",
              "         [0.7600],\n",
              "         [0.9200],\n",
              "         [1.0800],\n",
              "         [1.2400],\n",
              "         [1.4000],\n",
              "         [1.5600],\n",
              "         [1.7200],\n",
              "         [1.8800],\n",
              "         [2.0400]]))"
            ]
          },
          "metadata": {},
          "execution_count": 130
        }
      ]
    },
    {
      "cell_type": "code",
      "source": [
        "len(X),len(y)"
      ],
      "metadata": {
        "colab": {
          "base_uri": "https://localhost:8080/"
        },
        "id": "r1kO-x68Yhfy",
        "outputId": "d1e9a857-23ad-4611-fc75-73cee8938268"
      },
      "execution_count": 131,
      "outputs": [
        {
          "output_type": "execute_result",
          "data": {
            "text/plain": [
              "(50, 50)"
            ]
          },
          "metadata": {},
          "execution_count": 131
        }
      ]
    },
    {
      "cell_type": "code",
      "source": [
        "#create a train/test split\n",
        "train_split=int(0.8*len(X))\n",
        "X_train, y_train=X[:train_split], y[:train_split]\n",
        "X_test, y_test=X[train_split:],y[train_split:]\n",
        "\n",
        "len(X_train),len(y_train),len(X_test),len(y_test)"
      ],
      "metadata": {
        "colab": {
          "base_uri": "https://localhost:8080/"
        },
        "id": "L2-P-3YgYkRa",
        "outputId": "05f13c08-1ca6-4ecd-faf0-c778d21f7d49"
      },
      "execution_count": 132,
      "outputs": [
        {
          "output_type": "execute_result",
          "data": {
            "text/plain": [
              "(40, 40, 10, 10)"
            ]
          },
          "metadata": {},
          "execution_count": 132
        }
      ]
    },
    {
      "cell_type": "code",
      "source": [
        "def plot_prediction(train_data=X_train,train_labels=y_train,test_data=X_test,test_labels=y_test,prediction=None):\n",
        "  plt.figure(figsize=(5,3))\n",
        "\n",
        "  #training data in Blue\n",
        "  plt.scatter(train_data,train_labels,c=\"b\",s=4,label=\"Training Data\")\n",
        "\n",
        "  # Testing data in red\n",
        "  plt.scatter(test_data,test_labels,c=\"r\",s=4,label=\"Test data\")\n",
        "\n",
        "  # Are there predictions?\n",
        "  if prediction is not None:\n",
        "    plt.scatter(test_data,prediction,c=\"g\",s=4, label=\"Predictions\")\n",
        "  plt.legend(prop={\"size\":14});\n"
      ],
      "metadata": {
        "id": "L6AoWbfeYmWP"
      },
      "execution_count": 133,
      "outputs": []
    },
    {
      "cell_type": "code",
      "source": [
        "plot_prediction();"
      ],
      "metadata": {
        "colab": {
          "base_uri": "https://localhost:8080/",
          "height": 291
        },
        "id": "s6XU8_mzYokR",
        "outputId": "7a26b955-a600-45cb-99b0-63b7a562a01c"
      },
      "execution_count": 134,
      "outputs": [
        {
          "output_type": "display_data",
          "data": {
            "text/plain": [
              "<Figure size 500x300 with 1 Axes>"
            ],
            "image/png": "[encoded data removed]"
          },
          "metadata": {}
        }
      ]
    },
    {
      "cell_type": "code",
      "source": [
        "# Building the model\n",
        "\n",
        "class LinearRegressionModel(nn.Module):\n",
        "  def __init__(self):\n",
        "    super().__init__()\n",
        "    self.weights=nn.Parameter(torch.randn(1,\n",
        "                                         requires_grad=True,\n",
        "                                         dtype=torch.float))\n",
        "    self.bias= nn.Parameter(torch.randn(1,\n",
        "                                       requires_grad=True,\n",
        "                                       dtype=torch.float))\n",
        "\n",
        "  def forward(self,x :torch.Tensor):\n",
        "    return self.weights*x+self.bias"
      ],
      "metadata": {
        "id": "qINgyaglYuYS"
      },
      "execution_count": 135,
      "outputs": []
    },
    {
      "cell_type": "code",
      "source": [
        "# Create random seed\n",
        "torch.manual_seed(42)\n",
        "\n",
        "#Create an instance of the model (this is a subclass of nn.Module)\n",
        "model = LinearRegressionModel()\n",
        "\n",
        "# Check out the parameters\n",
        "list(model.parameters())"
      ],
      "metadata": {
        "colab": {
          "base_uri": "https://localhost:8080/"
        },
        "id": "TCmjnXmpZKvq",
        "outputId": "9acaff5b-659f-42f2-aa10-48ab6e5d58c4"
      },
      "execution_count": 136,
      "outputs": [
        {
          "output_type": "execute_result",
          "data": {
            "text/plain": [
              "[Parameter containing:\n",
              " tensor([0.3367], requires_grad=True),\n",
              " Parameter containing:\n",
              " tensor([0.1288], requires_grad=True)]"
            ]
          },
          "metadata": {},
          "execution_count": 136
        }
      ]
    },
    {
      "cell_type": "code",
      "source": [
        "model.state_dict()"
      ],
      "metadata": {
        "colab": {
          "base_uri": "https://localhost:8080/"
        },
        "id": "KulZ-oSNZQop",
        "outputId": "3c4d6946-ca51-44a9-ed45-da213742862c"
      },
      "execution_count": 137,
      "outputs": [
        {
          "output_type": "execute_result",
          "data": {
            "text/plain": [
              "OrderedDict([('weights', tensor([0.3367])), ('bias', tensor([0.1288]))])"
            ]
          },
          "metadata": {},
          "execution_count": 137
        }
      ]
    },
    {
      "cell_type": "code",
      "source": [
        "# Make predictions with model\n",
        "with torch.inference_mode():\n",
        "  y_preds=model(X_test)\n",
        "\n",
        "y_preds"
      ],
      "metadata": {
        "colab": {
          "base_uri": "https://localhost:8080/"
        },
        "id": "kIAekOMWZT1G",
        "outputId": "8453e9e8-2c20-4af1-dd2c-a1c5f4e39b53"
      },
      "execution_count": 138,
      "outputs": [
        {
          "output_type": "execute_result",
          "data": {
            "text/plain": [
              "tensor([[2.8223],\n",
              "        [2.8897],\n",
              "        [2.9570],\n",
              "        [3.0243],\n",
              "        [3.0917],\n",
              "        [3.1590],\n",
              "        [3.2264],\n",
              "        [3.2937],\n",
              "        [3.3610],\n",
              "        [3.4284]])"
            ]
          },
          "metadata": {},
          "execution_count": 138
        }
      ]
    },
    {
      "cell_type": "code",
      "source": [
        "plot_prediction(prediction=y_preds);"
      ],
      "metadata": {
        "colab": {
          "base_uri": "https://localhost:8080/",
          "height": 291
        },
        "id": "rSQ9C6iqZY6D",
        "outputId": "03cf71e6-69c8-4f1c-e26c-2700e5d4b536"
      },
      "execution_count": 139,
      "outputs": [
        {
          "output_type": "display_data",
          "data": {
            "text/plain": [
              "<Figure size 500x300 with 1 Axes>"
            ],
            "image/png": "[encoded data removed]"
          },
          "metadata": {}
        }
      ]
    },
    {
      "cell_type": "code",
      "source": [
        "# Setup a loss function\n",
        "loss_fn=nn.L1Loss()\n",
        "\n",
        "# Setup an optimizer (Stochastic gradient descent)\n",
        "optimizer=torch.optim.SGD(params=model.parameters(),\n",
        "                          lr=0.01) #lr = learning rate=possibly the most important hyperparametre (you can set)\n"
      ],
      "metadata": {
        "id": "VXtDu6PZZmsp"
      },
      "execution_count": 140,
      "outputs": []
    },
    {
      "cell_type": "code",
      "source": [
        "torch.manual_seed(42)\n",
        "\n",
        "epochs = 100\n",
        "### Training\n",
        "\n",
        "for epoch in range(epochs):\n",
        "\n",
        "  model.train()\n",
        "\n",
        "  y_pred=model(X_train)\n",
        "\n",
        "  loss=loss_fn(y_pred,y_train)\n",
        "  # print(f\"Loss: {loss}\")\n",
        "\n",
        "  optimizer.zero_grad()\n",
        "\n",
        "  loss.backward()\n",
        "\n",
        "  optimizer.step()\n",
        "\n",
        "  ### Testing\n",
        "  model.eval()\n",
        "  with torch.inference_mode():\n",
        "\n",
        "    test_pred=model(X_test)\n",
        "\n",
        "\n",
        "    test_loss=loss_fn(test_pred,y_test)\n",
        "  if epoch%10==0:\n",
        "    print(f\"Epoch:{epoch} | Loss:{loss} | Test loss:{test_loss} \")\n",
        "\n",
        "    print(model.state_dict())"
      ],
      "metadata": {
        "colab": {
          "base_uri": "https://localhost:8080/"
        },
        "id": "H22o5vgyZrba",
        "outputId": "3ecf73d0-3ce6-4434-c599-ffef01942ac3"
      },
      "execution_count": 141,
      "outputs": [
        {
          "output_type": "stream",
          "name": "stdout",
          "text": [
            "Epoch:0 | Loss:2.2780983448028564 | Test loss:4.237546443939209 \n",
            "OrderedDict([('weights', tensor([0.3757])), ('bias', tensor([0.1388]))])\n",
            "Epoch:10 | Loss:0.6570987701416016 | Test loss:0.6665477156639099 \n",
            "OrderedDict([('weights', tensor([0.7657])), ('bias', tensor([0.2388]))])\n",
            "Epoch:20 | Loss:0.13121899962425232 | Test loss:0.18222084641456604 \n",
            "OrderedDict([('weights', tensor([0.8550])), ('bias', tensor([0.2928]))])\n",
            "Epoch:30 | Loss:0.11426033079624176 | Test loss:0.16804122924804688 \n",
            "OrderedDict([('weights', tensor([0.8488])), ('bias', tensor([0.3338]))])\n",
            "Epoch:40 | Loss:0.09681833535432816 | Test loss:0.15297117829322815 \n",
            "OrderedDict([('weights', tensor([0.8425])), ('bias', tensor([0.3748]))])\n",
            "Epoch:50 | Loss:0.08019961416721344 | Test loss:0.14057135581970215 \n",
            "OrderedDict([('weights', tensor([0.8365])), ('bias', tensor([0.4158]))])\n",
            "Epoch:60 | Loss:0.06936819106340408 | Test loss:0.23553124070167542 \n",
            "OrderedDict([('weights', tensor([0.8429])), ('bias', tensor([0.4538]))])\n",
            "Epoch:70 | Loss:0.05071133375167847 | Test loss:0.08625049889087677 \n",
            "OrderedDict([('weights', tensor([0.8227])), ('bias', tensor([0.4843]))])\n",
            "Epoch:80 | Loss:0.039937302470207214 | Test loss:0.11335983127355576 \n",
            "OrderedDict([('weights', tensor([0.8226])), ('bias', tensor([0.5123]))])\n",
            "Epoch:90 | Loss:0.07234994322061539 | Test loss:0.2806991636753082 \n",
            "OrderedDict([('weights', tensor([0.8382])), ('bias', tensor([0.5408]))])\n"
          ]
        }
      ]
    },
    {
      "cell_type": "code",
      "source": [
        "with torch.inference_mode():\n",
        "  y_new=model(X_test)"
      ],
      "metadata": {
        "id": "v51QyVDYZ0y3"
      },
      "execution_count": 142,
      "outputs": []
    },
    {
      "cell_type": "code",
      "source": [
        "y_test, y_new"
      ],
      "metadata": {
        "colab": {
          "base_uri": "https://localhost:8080/"
        },
        "id": "U30IzOyCaeT2",
        "outputId": "118b5a16-bbe7-4144-f69a-2539ee8a0fed"
      },
      "execution_count": 143,
      "outputs": [
        {
          "output_type": "execute_result",
          "data": {
            "text/plain": [
              "(tensor([[7.0000],\n",
              "         [7.1600],\n",
              "         [7.3200],\n",
              "         [7.4800],\n",
              "         [7.6400],\n",
              "         [7.8000],\n",
              "         [7.9600],\n",
              "         [8.1200],\n",
              "         [8.2800],\n",
              "         [8.4400]]),\n",
              " tensor([[7.0115],\n",
              "         [7.1731],\n",
              "         [7.3348],\n",
              "         [7.4964],\n",
              "         [7.6580],\n",
              "         [7.8196],\n",
              "         [7.9812],\n",
              "         [8.1429],\n",
              "         [8.3045],\n",
              "         [8.4661]]))"
            ]
          },
          "metadata": {},
          "execution_count": 143
        }
      ]
    },
    {
      "cell_type": "code",
      "source": [
        "plot_prediction(prediction=y_new);"
      ],
      "metadata": {
        "colab": {
          "base_uri": "https://localhost:8080/",
          "height": 291
        },
        "id": "Kp0iRaMzaiQ4",
        "outputId": "940438cd-59c1-4168-a75e-47e2eb622a36"
      },
      "execution_count": 144,
      "outputs": [
        {
          "output_type": "display_data",
          "data": {
            "text/plain": [
              "<Figure size 500x300 with 1 Axes>"
            ],
            "image/png": "[encoded data removed]"
          },
          "metadata": {}
        }
      ]
    },
    {
      "cell_type": "code",
      "source": [],
      "metadata": {
        "id": "GsMTLbBpdI9n"
      },
      "execution_count": 144,
      "outputs": []
    }
  ]
}